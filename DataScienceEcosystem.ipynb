{
 "cells": [
  {
   "cell_type": "markdown",
   "id": "f8d914a3-c151-48fc-93f0-5a9862fd7981",
   "metadata": {},
   "source": [
    "# Data Science Tools and Ecosystem"
   ]
  },
  {
   "cell_type": "markdown",
   "id": "e395de23-abe9-4dc4-9cc4-242038a8c08d",
   "metadata": {},
   "source": [
    "In this notebook, Data Science Tools and Ecosystem are summarized."
   ]
  },
  {
   "cell_type": "markdown",
   "id": "bd28cf59-713e-423f-8f83-110f97128fab",
   "metadata": {},
   "source": [
    "Some of the popular languages that Data Scientists use are:  \n",
    "\n",
    "1. Python  \n",
    "2. R  \n",
    "3. SQL  \n",
    "4. Julia  \n",
    "5. Java  \n"
   ]
  },
  {
   "cell_type": "markdown",
   "id": "8230df72-ca8d-40fd-9943-32195e22977c",
   "metadata": {},
   "source": [
    "Some of the commonly used libraries used by Data Scientists include:  \n",
    "\n",
    "1. Pandas  \n",
    "2. NumPy  \n",
    "3. Matplotlib  \n",
    "4. Scikit-learn  \n",
    "5. TensorFlow  \n",
    "6. Keras  \n"
   ]
  },
  {
   "cell_type": "markdown",
   "id": "d4f290c7-92cc-4455-8c15-b2d74ac98318",
   "metadata": {},
   "source": [
    "| Data Science Tools |\n",
    "|--------------------|\n",
    "| Jupyter Notebook  |\n",
    "| RStudio           |\n",
    "| Apache Zeppelin   |\n"
   ]
  },
  {
   "cell_type": "code",
   "execution_count": 3,
   "id": "64006f4f-eb18-446e-8a99-ac1176bb5327",
   "metadata": {},
   "outputs": [
    {
     "data": {
      "text/plain": [
       "17"
      ]
     },
     "execution_count": 3,
     "metadata": {},
     "output_type": "execute_result"
    }
   ],
   "source": [
    " #This a simple arithmetic expression to mutiply then add integers.\n",
    "(3*4)+5"
   ]
  },
  {
   "cell_type": "code",
   "execution_count": 4,
   "id": "1787a2d8-6e6b-41cd-acdb-35483d3ab255",
   "metadata": {},
   "outputs": [
    {
     "name": "stdout",
     "output_type": "stream",
     "text": [
      "3.3333333333333335 hours\n"
     ]
    }
   ],
   "source": [
    "a=200/60\n",
    "print(a,\"hours\")"
   ]
  },
  {
   "cell_type": "markdown",
   "id": "363d8619-7810-4883-b923-1441fceee640",
   "metadata": {},
   "source": [
    "**Objectives:**  \n",
    "\n",
    "- List popular languages for Data Science  \n",
    "- Identify commonly used Data Science libraries  \n",
    "- Explore open-source Data Science tools  \n",
    "- Demonstrate basic arithmetic expressions in Python  \n",
    "- Understand version control with Git and GitHub  \n"
   ]
  },
  {
   "cell_type": "markdown",
   "id": "cbfeded1-9853-4253-9dec-54ad10392b8f",
   "metadata": {},
   "source": [
    "## Author\n",
    "\n",
    "Shruti"
   ]
  },
  {
   "cell_type": "code",
   "execution_count": null,
   "id": "7896acc6-191e-4b7b-885d-de189c54445a",
   "metadata": {},
   "outputs": [],
   "source": []
  }
 ],
 "metadata": {
  "kernelspec": {
   "display_name": "Python 3 (ipykernel)",
   "language": "python",
   "name": "python3"
  },
  "language_info": {
   "codemirror_mode": {
    "name": "ipython",
    "version": 3
   },
   "file_extension": ".py",
   "mimetype": "text/x-python",
   "name": "python",
   "nbconvert_exporter": "python",
   "pygments_lexer": "ipython3",
   "version": "3.13.1"
  }
 },
 "nbformat": 4,
 "nbformat_minor": 5
}
